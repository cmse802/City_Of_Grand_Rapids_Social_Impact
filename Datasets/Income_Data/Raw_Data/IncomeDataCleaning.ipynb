{
 "cells": [
  {
   "cell_type": "code",
   "execution_count": 1,
   "metadata": {},
   "outputs": [],
   "source": [
    "import pandas as pd\n",
    "from datetime import datetime\n",
    "import matplotlib.pyplot as plt"
   ]
  },
  {
   "cell_type": "code",
   "execution_count": 2,
   "metadata": {},
   "outputs": [
    {
     "data": {
      "text/html": [
       "<div>\n",
       "<style scoped>\n",
       "    .dataframe tbody tr th:only-of-type {\n",
       "        vertical-align: middle;\n",
       "    }\n",
       "\n",
       "    .dataframe tbody tr th {\n",
       "        vertical-align: top;\n",
       "    }\n",
       "\n",
       "    .dataframe thead th {\n",
       "        text-align: right;\n",
       "    }\n",
       "</style>\n",
       "<table border=\"1\" class=\"dataframe\">\n",
       "  <thead>\n",
       "    <tr style=\"text-align: right;\">\n",
       "      <th></th>\n",
       "      <th>Year Start</th>\n",
       "      <th>Year End</th>\n",
       "      <th>Year</th>\n",
       "      <th>Pct earning above ALICE threshold</th>\n",
       "      <th>Race/Ethnicity</th>\n",
       "    </tr>\n",
       "  </thead>\n",
       "  <tbody>\n",
       "    <tr>\n",
       "      <th>0</th>\n",
       "      <td>01/01/2017 12:00:00 AM</td>\n",
       "      <td>12/31/2017 12:00:00 AM</td>\n",
       "      <td>2017</td>\n",
       "      <td>0.68</td>\n",
       "      <td>White</td>\n",
       "    </tr>\n",
       "    <tr>\n",
       "      <th>1</th>\n",
       "      <td>01/01/2017 12:00:00 AM</td>\n",
       "      <td>12/31/2017 12:00:00 AM</td>\n",
       "      <td>2017</td>\n",
       "      <td>0.33</td>\n",
       "      <td>Black/AA</td>\n",
       "    </tr>\n",
       "    <tr>\n",
       "      <th>2</th>\n",
       "      <td>01/01/2017 12:00:00 AM</td>\n",
       "      <td>12/31/2017 12:00:00 AM</td>\n",
       "      <td>2017</td>\n",
       "      <td>0.60</td>\n",
       "      <td>Asian</td>\n",
       "    </tr>\n",
       "    <tr>\n",
       "      <th>3</th>\n",
       "      <td>01/01/2017 12:00:00 AM</td>\n",
       "      <td>12/31/2017 12:00:00 AM</td>\n",
       "      <td>2017</td>\n",
       "      <td>0.43</td>\n",
       "      <td>Two or More</td>\n",
       "    </tr>\n",
       "    <tr>\n",
       "      <th>4</th>\n",
       "      <td>01/01/2017 12:00:00 AM</td>\n",
       "      <td>12/31/2017 12:00:00 AM</td>\n",
       "      <td>2017</td>\n",
       "      <td>0.39</td>\n",
       "      <td>Hispanic</td>\n",
       "    </tr>\n",
       "  </tbody>\n",
       "</table>\n",
       "</div>"
      ],
      "text/plain": [
       "               Year Start                Year End  Year  \\\n",
       "0  01/01/2017 12:00:00 AM  12/31/2017 12:00:00 AM  2017   \n",
       "1  01/01/2017 12:00:00 AM  12/31/2017 12:00:00 AM  2017   \n",
       "2  01/01/2017 12:00:00 AM  12/31/2017 12:00:00 AM  2017   \n",
       "3  01/01/2017 12:00:00 AM  12/31/2017 12:00:00 AM  2017   \n",
       "4  01/01/2017 12:00:00 AM  12/31/2017 12:00:00 AM  2017   \n",
       "\n",
       "   Pct earning above ALICE threshold Race/Ethnicity  \n",
       "0                               0.68          White  \n",
       "1                               0.33       Black/AA  \n",
       "2                               0.60          Asian  \n",
       "3                               0.43    Two or More  \n",
       "4                               0.39       Hispanic  "
      ]
     },
     "execution_count": 2,
     "metadata": {},
     "output_type": "execute_result"
    }
   ],
   "source": [
    "EPA = pd.read_csv('EPA_-_Percent_of_Residents_Earning_above_the_Asset_Limited__Income_Constrained__Employed__ALICE__Threshold_20240123.csv')\n",
    "EPA.head()"
   ]
  },
  {
   "cell_type": "code",
   "execution_count": 3,
   "metadata": {},
   "outputs": [
    {
     "data": {
      "text/html": [
       "<div>\n",
       "<style scoped>\n",
       "    .dataframe tbody tr th:only-of-type {\n",
       "        vertical-align: middle;\n",
       "    }\n",
       "\n",
       "    .dataframe tbody tr th {\n",
       "        vertical-align: top;\n",
       "    }\n",
       "\n",
       "    .dataframe thead th {\n",
       "        text-align: right;\n",
       "    }\n",
       "</style>\n",
       "<table border=\"1\" class=\"dataframe\">\n",
       "  <thead>\n",
       "    <tr style=\"text-align: right;\">\n",
       "      <th></th>\n",
       "      <th>Name</th>\n",
       "      <th>Variable</th>\n",
       "      <th>Variable Code</th>\n",
       "      <th>Date</th>\n",
       "      <th>Value</th>\n",
       "      <th>Row ID</th>\n",
       "      <th>Geography ID</th>\n",
       "      <th>Geography Type</th>\n",
       "      <th>Location</th>\n",
       "    </tr>\n",
       "  </thead>\n",
       "  <tbody>\n",
       "    <tr>\n",
       "      <th>0</th>\n",
       "      <td>Kent County, MI</td>\n",
       "      <td>Employment</td>\n",
       "      <td>5</td>\n",
       "      <td>01/01/2013 12:00:00 AM</td>\n",
       "      <td>298364.0</td>\n",
       "      <td>LAUCN260810000000005_20130101</td>\n",
       "      <td>26081</td>\n",
       "      <td>county</td>\n",
       "      <td>POINT (-85.547446 43.032497)</td>\n",
       "    </tr>\n",
       "    <tr>\n",
       "      <th>1</th>\n",
       "      <td>Kent County, MI</td>\n",
       "      <td>Employment</td>\n",
       "      <td>5</td>\n",
       "      <td>02/01/2013 12:00:00 AM</td>\n",
       "      <td>301651.0</td>\n",
       "      <td>LAUCN260810000000005_20130201</td>\n",
       "      <td>26081</td>\n",
       "      <td>county</td>\n",
       "      <td>POINT (-85.547446 43.032497)</td>\n",
       "    </tr>\n",
       "    <tr>\n",
       "      <th>2</th>\n",
       "      <td>Kent County, MI</td>\n",
       "      <td>Employment</td>\n",
       "      <td>5</td>\n",
       "      <td>03/01/2013 12:00:00 AM</td>\n",
       "      <td>302103.0</td>\n",
       "      <td>LAUCN260810000000005_20130301</td>\n",
       "      <td>26081</td>\n",
       "      <td>county</td>\n",
       "      <td>POINT (-85.547446 43.032497)</td>\n",
       "    </tr>\n",
       "    <tr>\n",
       "      <th>3</th>\n",
       "      <td>Kent County, MI</td>\n",
       "      <td>Employment</td>\n",
       "      <td>5</td>\n",
       "      <td>04/01/2013 12:00:00 AM</td>\n",
       "      <td>304720.0</td>\n",
       "      <td>LAUCN260810000000005_20130401</td>\n",
       "      <td>26081</td>\n",
       "      <td>county</td>\n",
       "      <td>POINT (-85.547446 43.032497)</td>\n",
       "    </tr>\n",
       "    <tr>\n",
       "      <th>4</th>\n",
       "      <td>Kent County, MI</td>\n",
       "      <td>Employment</td>\n",
       "      <td>5</td>\n",
       "      <td>05/01/2013 12:00:00 AM</td>\n",
       "      <td>307792.0</td>\n",
       "      <td>LAUCN260810000000005_20130501</td>\n",
       "      <td>26081</td>\n",
       "      <td>county</td>\n",
       "      <td>POINT (-85.547446 43.032497)</td>\n",
       "    </tr>\n",
       "  </tbody>\n",
       "</table>\n",
       "</div>"
      ],
      "text/plain": [
       "              Name    Variable  Variable Code                    Date  \\\n",
       "0  Kent County, MI  Employment              5  01/01/2013 12:00:00 AM   \n",
       "1  Kent County, MI  Employment              5  02/01/2013 12:00:00 AM   \n",
       "2  Kent County, MI  Employment              5  03/01/2013 12:00:00 AM   \n",
       "3  Kent County, MI  Employment              5  04/01/2013 12:00:00 AM   \n",
       "4  Kent County, MI  Employment              5  05/01/2013 12:00:00 AM   \n",
       "\n",
       "      Value                         Row ID  Geography ID Geography Type  \\\n",
       "0  298364.0  LAUCN260810000000005_20130101         26081         county   \n",
       "1  301651.0  LAUCN260810000000005_20130201         26081         county   \n",
       "2  302103.0  LAUCN260810000000005_20130301         26081         county   \n",
       "3  304720.0  LAUCN260810000000005_20130401         26081         county   \n",
       "4  307792.0  LAUCN260810000000005_20130501         26081         county   \n",
       "\n",
       "                       Location  \n",
       "0  POINT (-85.547446 43.032497)  \n",
       "1  POINT (-85.547446 43.032497)  \n",
       "2  POINT (-85.547446 43.032497)  \n",
       "3  POINT (-85.547446 43.032497)  \n",
       "4  POINT (-85.547446 43.032497)  "
      ]
     },
     "execution_count": 3,
     "metadata": {},
     "output_type": "execute_result"
    }
   ],
   "source": [
    "## Load in Employment Stats\n",
    "emp_stats = pd.read_csv('Employment_Statistics_20240127.csv')\n",
    "emp_stats.head()"
   ]
  },
  {
   "cell_type": "code",
   "execution_count": 4,
   "metadata": {},
   "outputs": [],
   "source": [
    "#### Clean Employment Stats Data ####\n",
    "emp_stats[\"Lat\"] = [0.0]*len(emp_stats) ## Creating a Latitude Column\n",
    "emp_stats['Long'] = [0.0]*len(emp_stats) ## Creating a Longitude Column\n",
    "\n",
    "for i in range(len(emp_stats)):\n",
    "    ###Turning the Date column in datetime objects and dropping the time\n",
    "    emp_stats.loc[i,'Date'] = datetime.strptime(emp_stats.loc[i,'Date'][:10], \"%m/%d/%Y\").date()\n",
    "\n",
    "    ###Turning the long and lat point into two new columns\n",
    "    if emp_stats.loc[i,'Location'] == 'POINT (-85.547446 43.032497)':\n",
    "        emp_stats.loc[i,'Long'] = -85.547446\n",
    "        emp_stats.loc[i,'Lat'] = 43.032497\n",
    "    elif emp_stats.loc[i,'Location'] == 'POINT (-85.65557 42.961156)':\n",
    "        emp_stats.loc[i,'Long'] = -85.65557\n",
    "        emp_stats.loc[i,'Lat'] = 42.961156\n",
    "    elif emp_stats.loc[i,'Location'] == 'POINT (-85.660493 44.8441757)':\n",
    "        emp_stats.loc[i,'Long'] = -85.660493\n",
    "        emp_stats.loc[i,'Lat'] = 44.8441757\n",
    "    elif emp_stats.loc[i,'Location'] == 'POINT (-85.65557000000001 42.961156)':\n",
    "        emp_stats.loc[i,'Long'] = -85.65557\n",
    "        emp_stats.loc[i,'Lat'] = 42.961156"
   ]
  },
  {
   "cell_type": "code",
   "execution_count": 5,
   "metadata": {},
   "outputs": [],
   "source": [
    "### If you want to save the cleaned data uncomment the line below and run this cell\n",
    "# emp_stats.to_csv(Employment_Statistics_Clean.csv)"
   ]
  },
  {
   "cell_type": "code",
   "execution_count": 6,
   "metadata": {},
   "outputs": [],
   "source": [
    "gr = emp_stats[emp_stats['Name']=='Grand Rapids city, MI']"
   ]
  },
  {
   "cell_type": "code",
   "execution_count": 7,
   "metadata": {},
   "outputs": [],
   "source": [
    "employment = gr[gr['Variable']=='Employment']\n",
    "employment = employment.sort_values(by='Date')\n",
    "labor_force = gr[gr['Variable']=='Labor Force']\n",
    "labor_force = labor_force.sort_values(by='Date')\n",
    "unemployment = gr[gr['Variable'] == \"Unemployment\"]\n",
    "unemployment = unemployment.sort_values(by='Date')\n",
    "unemployment_rate = gr[gr['Variable'] == 'Unemployment Rate']\n",
    "unemployment_rate = unemployment_rate.sort_values(by='Date')"
   ]
  },
  {
   "cell_type": "code",
   "execution_count": 8,
   "metadata": {},
   "outputs": [
    {
     "data": {
      "text/plain": [
       "<matplotlib.legend.Legend at 0x1fbe85bedd0>"
      ]
     },
     "execution_count": 8,
     "metadata": {},
     "output_type": "execute_result"
    },
    {
     "data": {
      "image/png": "[encoded data removed]",
      "text/plain": [
       "<Figure size 640x480 with 1 Axes>"
      ]
     },
     "metadata": {},
     "output_type": "display_data"
    }
   ],
   "source": [
    "plt.plot(employment['Date'],employment['Value'],color='dodgerblue',label='Employment')\n",
    "plt.plot(labor_force['Date'],labor_force['Value'],color='navy',label='Labor Force')\n",
    "plt.ylabel(\"Number of People\")\n",
    "plt.xlabel(\"Year\")\n",
    "plt.title(\"City of Grand Rapids Employment\")\n",
    "plt.grid(alpha=.3)\n",
    "plt.legend(loc='upper left')"
   ]
  },
  {
   "cell_type": "code",
   "execution_count": 9,
   "metadata": {},
   "outputs": [
    {
     "data": {
      "text/plain": [
       "<matplotlib.legend.Legend at 0x1fbeaa10750>"
      ]
     },
     "execution_count": 9,
     "metadata": {},
     "output_type": "execute_result"
    },
    {
     "data": {
      "image/png": "[encoded data removed]",
      "text/plain": [
       "<Figure size 640x480 with 1 Axes>"
      ]
     },
     "metadata": {},
     "output_type": "display_data"
    }
   ],
   "source": [
    "plt.plot(unemployment['Date'],unemployment['Value'],color='darkorange',label='Unemployment')\n",
    "plt.ylabel(\"Number of People\")\n",
    "plt.xlabel(\"Year\")\n",
    "plt.title(\"City of Grand Rapids Unemployment\")\n",
    "plt.grid(alpha=.3)\n",
    "plt.legend(loc='upper left')"
   ]
  },
  {
   "cell_type": "code",
   "execution_count": 10,
   "metadata": {},
   "outputs": [
    {
     "data": {
      "text/plain": [
       "<matplotlib.legend.Legend at 0x1fbeaa65090>"
      ]
     },
     "execution_count": 10,
     "metadata": {},
     "output_type": "execute_result"
    },
    {
     "data": {
      "image/png": "[encoded data removed]",
      "text/plain": [
       "<Figure size 640x480 with 1 Axes>"
      ]
     },
     "metadata": {},
     "output_type": "display_data"
    }
   ],
   "source": [
    "plt.plot(unemployment_rate['Date'],unemployment_rate['Value'],color='firebrick',label='Unemployment Rate')\n",
    "plt.ylabel(\"Unemployment Rate (Percent)\")\n",
    "plt.xlabel(\"Year\")\n",
    "plt.title(\"City of Grand Rapids Unemployment Rate\")\n",
    "plt.grid(alpha=.3)\n",
    "plt.legend(loc='upper left')"
   ]
  },
  {
   "cell_type": "code",
   "execution_count": 11,
   "metadata": {},
   "outputs": [],
   "source": [
    "col_names_1 = ['Label (Grouping)', \"Total\", \"Total Margin of Error\", \"Percent\", \"Percent Margin of Error\", \"Male\", \"Male Margin of Error\",\n",
    "             \"Male Percent\", \"Male Percent Margin of Error\", \"Female\", \"Female Margin of Error\", \"Female Percent\", \n",
    "             \"Female Percent Margin of Error\"]\n",
    "col_names_2 = ['Label (Grouping)', \"Total\", \"Total Margin of Error\", \"Male\", \"Male Margin of Error\",\n",
    "             \"Female\", \"Female Margin of Error\"]"
   ]
  },
  {
   "cell_type": "code",
   "execution_count": 12,
   "metadata": {},
   "outputs": [],
   "source": [
    "inc_2022 = pd.read_csv('ACSST5Y2022.csv',names = col_names_1, skiprows=[0])\n",
    "inc_2021 = pd.read_csv('ACSST5Y2021.csv',names = col_names_1, skiprows=[0])\n",
    "inc_2020 = pd.read_csv('ACSST5Y2020.csv',names = col_names_1, skiprows=[0])\n",
    "inc_2019 = pd.read_csv('ACSST5Y2019.csv',names = col_names_1, skiprows=[0])\n",
    "inc_2018 = pd.read_csv('ACSST5Y2018.csv',names = col_names_1, skiprows=[0])\n",
    "inc_2017 = pd.read_csv('ACSST5Y2017.csv',names = col_names_1, skiprows=[0])\n",
    "inc_2016 = pd.read_csv('ACSST5Y2016.csv',names = col_names_2, skiprows=[0])\n",
    "inc_2015 = pd.read_csv('ACSST5Y2015.csv',names = col_names_2, skiprows=[0])\n",
    "inc_2014 = pd.read_csv('ACSST5Y2014.csv',names = col_names_2, skiprows=[0])\n",
    "inc_2013 = pd.read_csv('ACSST5Y2013.csv',names = col_names_2, skiprows=[0])\n",
    "inc_2012 = pd.read_csv('ACSST5Y2012.csv',names = col_names_2, skiprows=[0])\n",
    "inc_2011 = pd.read_csv('ACSST5Y2011.csv',names = col_names_2, skiprows=[0])\n",
    "inc_2010 = pd.read_csv('ACSST5Y2010.csv',names = col_names_2, skiprows=[0])"
   ]
  },
  {
   "cell_type": "code",
   "execution_count": 13,
   "metadata": {},
   "outputs": [
    {
     "name": "stderr",
     "output_type": "stream",
     "text": [
      "C:\\Users\\anies\\AppData\\Local\\Temp\\ipykernel_49412\\1350272517.py:3: SettingWithCopyWarning: \n",
      "A value is trying to be set on a copy of a slice from a DataFrame.\n",
      "Try using .loc[row_indexer,col_indexer] = value instead\n",
      "\n",
      "See the caveats in the documentation: https://pandas.pydata.org/pandas-docs/stable/user_guide/indexing.html#returning-a-view-versus-a-copy\n",
      "  globals()[f\"range_{year}\"].loc[:,\"Year\"] = [year]*len(globals()[f\"range_{year}\"])\n",
      "C:\\Users\\anies\\AppData\\Local\\Temp\\ipykernel_49412\\1350272517.py:3: SettingWithCopyWarning: \n",
      "A value is trying to be set on a copy of a slice from a DataFrame.\n",
      "Try using .loc[row_indexer,col_indexer] = value instead\n",
      "\n",
      "See the caveats in the documentation: https://pandas.pydata.org/pandas-docs/stable/user_guide/indexing.html#returning-a-view-versus-a-copy\n",
      "  globals()[f\"range_{year}\"].loc[:,\"Year\"] = [year]*len(globals()[f\"range_{year}\"])\n",
      "C:\\Users\\anies\\AppData\\Local\\Temp\\ipykernel_49412\\1350272517.py:3: SettingWithCopyWarning: \n",
      "A value is trying to be set on a copy of a slice from a DataFrame.\n",
      "Try using .loc[row_indexer,col_indexer] = value instead\n",
      "\n",
      "See the caveats in the documentation: https://pandas.pydata.org/pandas-docs/stable/user_guide/indexing.html#returning-a-view-versus-a-copy\n",
      "  globals()[f\"range_{year}\"].loc[:,\"Year\"] = [year]*len(globals()[f\"range_{year}\"])\n",
      "C:\\Users\\anies\\AppData\\Local\\Temp\\ipykernel_49412\\1350272517.py:3: SettingWithCopyWarning: \n",
      "A value is trying to be set on a copy of a slice from a DataFrame.\n",
      "Try using .loc[row_indexer,col_indexer] = value instead\n",
      "\n",
      "See the caveats in the documentation: https://pandas.pydata.org/pandas-docs/stable/user_guide/indexing.html#returning-a-view-versus-a-copy\n",
      "  globals()[f\"range_{year}\"].loc[:,\"Year\"] = [year]*len(globals()[f\"range_{year}\"])\n",
      "C:\\Users\\anies\\AppData\\Local\\Temp\\ipykernel_49412\\1350272517.py:3: SettingWithCopyWarning: \n",
      "A value is trying to be set on a copy of a slice from a DataFrame.\n",
      "Try using .loc[row_indexer,col_indexer] = value instead\n",
      "\n",
      "See the caveats in the documentation: https://pandas.pydata.org/pandas-docs/stable/user_guide/indexing.html#returning-a-view-versus-a-copy\n",
      "  globals()[f\"range_{year}\"].loc[:,\"Year\"] = [year]*len(globals()[f\"range_{year}\"])\n",
      "C:\\Users\\anies\\AppData\\Local\\Temp\\ipykernel_49412\\1350272517.py:3: SettingWithCopyWarning: \n",
      "A value is trying to be set on a copy of a slice from a DataFrame.\n",
      "Try using .loc[row_indexer,col_indexer] = value instead\n",
      "\n",
      "See the caveats in the documentation: https://pandas.pydata.org/pandas-docs/stable/user_guide/indexing.html#returning-a-view-versus-a-copy\n",
      "  globals()[f\"range_{year}\"].loc[:,\"Year\"] = [year]*len(globals()[f\"range_{year}\"])\n",
      "C:\\Users\\anies\\AppData\\Local\\Temp\\ipykernel_49412\\1350272517.py:3: SettingWithCopyWarning: \n",
      "A value is trying to be set on a copy of a slice from a DataFrame.\n",
      "Try using .loc[row_indexer,col_indexer] = value instead\n",
      "\n",
      "See the caveats in the documentation: https://pandas.pydata.org/pandas-docs/stable/user_guide/indexing.html#returning-a-view-versus-a-copy\n",
      "  globals()[f\"range_{year}\"].loc[:,\"Year\"] = [year]*len(globals()[f\"range_{year}\"])\n"
     ]
    }
   ],
   "source": [
    "for year in range(2010, 2017):\n",
    "    globals()[f\"range_{year}\"] = globals()[f\"inc_{year}\"][2:12]\n",
    "    globals()[f\"range_{year}\"].loc[:,\"Year\"] = [year]*len(globals()[f\"range_{year}\"])"
   ]
  },
  {
   "cell_type": "code",
   "execution_count": 14,
   "metadata": {},
   "outputs": [],
   "source": [
    "col_names = {'Percent': 'Total','Percent Margin of Error': 'Total Margin of Error',\n",
    "             'Male Percent': 'Male','Male Percent Margin of Error': 'Male Margin of Error','Female Percent': 'Female',\n",
    "                            \t'Female Percent Margin of Error': 'Female Margin of Error'}"
   ]
  },
  {
   "cell_type": "code",
   "execution_count": 15,
   "metadata": {},
   "outputs": [],
   "source": [
    "for year in range(2017, 2023):\n",
    "    globals()[f\"range_{year}\"] = globals()[f\"inc_{year}\"][2:12][['Label (Grouping)','Percent','Percent Margin of Error','Male Percent',\n",
    "                                                    'Male Percent Margin of Error','Female Percent','Female Percent Margin of Error']]\n",
    "    globals()[f\"range_{year}\"].loc[:,\"Year\"] = [year]*len(globals()[f\"range_{year}\"])\n",
    "    globals()[f\"range_{year}\"] = globals()[f\"range_{year}\"].rename(columns=col_names)"
   ]
  },
  {
   "cell_type": "code",
   "execution_count": 16,
   "metadata": {},
   "outputs": [],
   "source": [
    "full_time_salary_ranges = pd.concat([range_2022, range_2021, range_2020, range_2019, range_2018, range_2017, range_2016, range_2015, range_2014, range_2013,\n",
    "           range_2012, range_2011, range_2010],ignore_index=True)"
   ]
  },
  {
   "cell_type": "code",
   "execution_count": 17,
   "metadata": {},
   "outputs": [],
   "source": [
    "full_time_salary_ranges.loc[:,'Total'] = full_time_salary_ranges.loc[:,'Total'].str.replace(',', '').str.rstrip('%').astype(float)\n",
    "full_time_salary_ranges.loc[:,'Male'] = full_time_salary_ranges.loc[:,'Male'].str.replace(',', '').str.rstrip('%').astype(float)\n",
    "full_time_salary_ranges.loc[:,'Female'] = full_time_salary_ranges.loc[:,'Female'].str.replace(',', '').str.rstrip('%').astype(float)\n",
    "\n",
    "full_time_salary_ranges.loc[:,'Total Margin of Error'] = full_time_salary_ranges.loc[:,'Total Margin of Error'].str.replace('[^0-9]', '', regex=True).astype(float)/10\n",
    "full_time_salary_ranges.loc[:,'Male Margin of Error'] = full_time_salary_ranges.loc[:,'Male Margin of Error'].str.replace('[^0-9]', '', regex=True).astype(float)/10\n",
    "full_time_salary_ranges.loc[:,'Female Margin of Error'] = full_time_salary_ranges.loc[:,'Female Margin of Error'].str.replace('[^0-9]', '', regex=True).astype(float)/10\n",
    "\n",
    "full_time_salary_ranges.loc[:,'Label (Grouping)'] = full_time_salary_ranges.loc[:,'Label (Grouping)'].str.lstrip()"
   ]
  },
  {
   "cell_type": "code",
   "execution_count": 18,
   "metadata": {},
   "outputs": [],
   "source": [
    "full_time_salary_ranges['rank'] = [0]*len(full_time_salary_ranges)"
   ]
  },
  {
   "cell_type": "code",
   "execution_count": 19,
   "metadata": {},
   "outputs": [],
   "source": [
    "for i in range(len(full_time_salary_ranges)):\n",
    "    if full_time_salary_ranges.loc[i,\"Label (Grouping)\"] == \"$1 to $9,999 or loss\":\n",
    "       full_time_salary_ranges.loc[i,\"rank\"] = 1\n",
    "    elif full_time_salary_ranges.loc[i,\"Label (Grouping)\"] == \"$10,000 to $14,999\":\n",
    "        full_time_salary_ranges.loc[i,\"rank\"] = 2\n",
    "    elif full_time_salary_ranges.loc[i,\"Label (Grouping)\"] == \"$15,000 to $24,999\":\n",
    "        full_time_salary_ranges.loc[i,\"rank\"] = 3\n",
    "    elif full_time_salary_ranges.loc[i,\"Label (Grouping)\"] == \"$25,000 to $34,999\":\n",
    "        full_time_salary_ranges.loc[i,\"rank\"] = 4\n",
    "    elif full_time_salary_ranges.loc[i,\"Label (Grouping)\"] == \"$35,000 to $49,999\":\n",
    "        full_time_salary_ranges.loc[i,\"rank\"] = 5\n",
    "    elif full_time_salary_ranges.loc[i,\"Label (Grouping)\"] == \"$50,000 to $64,999\":\n",
    "        full_time_salary_ranges.loc[i,\"rank\"] = 6\n",
    "    elif full_time_salary_ranges.loc[i,\"Label (Grouping)\"] == \"$65,000 to $74,999\":\n",
    "        full_time_salary_ranges.loc[i,\"rank\"] = 7\n",
    "    elif full_time_salary_ranges.loc[i,\"Label (Grouping)\"] == \"$75,000 to $99,999\":\n",
    "        full_time_salary_ranges.loc[i,\"rank\"] = 8\n",
    "    elif full_time_salary_ranges.loc[i,\"Label (Grouping)\"] == \"$100,000 or more\":\n",
    "        full_time_salary_ranges.loc[i,\"rank\"] = 9"
   ]
  },
  {
   "cell_type": "code",
   "execution_count": 20,
   "metadata": {},
   "outputs": [
    {
     "data": {
      "text/html": [
       "<div>\n",
       "<style scoped>\n",
       "    .dataframe tbody tr th:only-of-type {\n",
       "        vertical-align: middle;\n",
       "    }\n",
       "\n",
       "    .dataframe tbody tr th {\n",
       "        vertical-align: top;\n",
       "    }\n",
       "\n",
       "    .dataframe thead th {\n",
       "        text-align: right;\n",
       "    }\n",
       "</style>\n",
       "<table border=\"1\" class=\"dataframe\">\n",
       "  <thead>\n",
       "    <tr style=\"text-align: right;\">\n",
       "      <th></th>\n",
       "      <th>Label (Grouping)</th>\n",
       "      <th>Total</th>\n",
       "      <th>Total Margin of Error</th>\n",
       "      <th>Male</th>\n",
       "      <th>Male Margin of Error</th>\n",
       "      <th>Female</th>\n",
       "      <th>Female Margin of Error</th>\n",
       "      <th>Year</th>\n",
       "      <th>rank</th>\n",
       "    </tr>\n",
       "  </thead>\n",
       "  <tbody>\n",
       "    <tr>\n",
       "      <th>0</th>\n",
       "      <td>FULL-TIME, YEAR-ROUND WORKERS WITH EARNINGS</td>\n",
       "      <td>69603.0</td>\n",
       "      <td>160.1</td>\n",
       "      <td>38535.0</td>\n",
       "      <td>118.1</td>\n",
       "      <td>31068.0</td>\n",
       "      <td>118.9</td>\n",
       "      <td>2022</td>\n",
       "      <td>0</td>\n",
       "    </tr>\n",
       "    <tr>\n",
       "      <th>1</th>\n",
       "      <td>$1 to $9,999 or loss</td>\n",
       "      <td>2.0</td>\n",
       "      <td>0.6</td>\n",
       "      <td>1.7</td>\n",
       "      <td>0.6</td>\n",
       "      <td>2.3</td>\n",
       "      <td>1.1</td>\n",
       "      <td>2022</td>\n",
       "      <td>1</td>\n",
       "    </tr>\n",
       "    <tr>\n",
       "      <th>2</th>\n",
       "      <td>$10,000 to $14,999</td>\n",
       "      <td>1.9</td>\n",
       "      <td>0.6</td>\n",
       "      <td>1.5</td>\n",
       "      <td>0.7</td>\n",
       "      <td>2.3</td>\n",
       "      <td>0.9</td>\n",
       "      <td>2022</td>\n",
       "      <td>2</td>\n",
       "    </tr>\n",
       "    <tr>\n",
       "      <th>3</th>\n",
       "      <td>$15,000 to $24,999</td>\n",
       "      <td>8.0</td>\n",
       "      <td>1.0</td>\n",
       "      <td>8.0</td>\n",
       "      <td>1.3</td>\n",
       "      <td>7.9</td>\n",
       "      <td>1.3</td>\n",
       "      <td>2022</td>\n",
       "      <td>3</td>\n",
       "    </tr>\n",
       "    <tr>\n",
       "      <th>4</th>\n",
       "      <td>$25,000 to $34,999</td>\n",
       "      <td>13.5</td>\n",
       "      <td>1.1</td>\n",
       "      <td>11.9</td>\n",
       "      <td>1.1</td>\n",
       "      <td>15.5</td>\n",
       "      <td>1.7</td>\n",
       "      <td>2022</td>\n",
       "      <td>4</td>\n",
       "    </tr>\n",
       "  </tbody>\n",
       "</table>\n",
       "</div>"
      ],
      "text/plain": [
       "                              Label (Grouping)    Total Total Margin of Error  \\\n",
       "0  FULL-TIME, YEAR-ROUND WORKERS WITH EARNINGS  69603.0                 160.1   \n",
       "1                         $1 to $9,999 or loss      2.0                   0.6   \n",
       "2                           $10,000 to $14,999      1.9                   0.6   \n",
       "3                           $15,000 to $24,999      8.0                   1.0   \n",
       "4                           $25,000 to $34,999     13.5                   1.1   \n",
       "\n",
       "      Male Male Margin of Error   Female Female Margin of Error  Year  rank  \n",
       "0  38535.0                118.1  31068.0                  118.9  2022     0  \n",
       "1      1.7                  0.6      2.3                    1.1  2022     1  \n",
       "2      1.5                  0.7      2.3                    0.9  2022     2  \n",
       "3      8.0                  1.3      7.9                    1.3  2022     3  \n",
       "4     11.9                  1.1     15.5                    1.7  2022     4  "
      ]
     },
     "execution_count": 20,
     "metadata": {},
     "output_type": "execute_result"
    }
   ],
   "source": [
    "full_time_salary_ranges.head()"
   ]
  },
  {
   "cell_type": "code",
   "execution_count": 21,
   "metadata": {},
   "outputs": [],
   "source": [
    "full_time_salary_ranges.to_csv('percentage_full_time_salary_ranges_clean.csv')"
   ]
  },
  {
   "cell_type": "code",
   "execution_count": 22,
   "metadata": {},
   "outputs": [
    {
     "name": "stderr",
     "output_type": "stream",
     "text": [
      "C:\\Users\\anies\\AppData\\Local\\Temp\\ipykernel_49412\\1060567082.py:3: SettingWithCopyWarning: \n",
      "A value is trying to be set on a copy of a slice from a DataFrame.\n",
      "Try using .loc[row_indexer,col_indexer] = value instead\n",
      "\n",
      "See the caveats in the documentation: https://pandas.pydata.org/pandas-docs/stable/user_guide/indexing.html#returning-a-view-versus-a-copy\n",
      "  globals()[f\"education_{year}\"].loc[:,\"Year\"] = [year]*len(globals()[f\"education_{year}\"])\n",
      "C:\\Users\\anies\\AppData\\Local\\Temp\\ipykernel_49412\\1060567082.py:3: SettingWithCopyWarning: \n",
      "A value is trying to be set on a copy of a slice from a DataFrame.\n",
      "Try using .loc[row_indexer,col_indexer] = value instead\n",
      "\n",
      "See the caveats in the documentation: https://pandas.pydata.org/pandas-docs/stable/user_guide/indexing.html#returning-a-view-versus-a-copy\n",
      "  globals()[f\"education_{year}\"].loc[:,\"Year\"] = [year]*len(globals()[f\"education_{year}\"])\n",
      "C:\\Users\\anies\\AppData\\Local\\Temp\\ipykernel_49412\\1060567082.py:3: SettingWithCopyWarning: \n",
      "A value is trying to be set on a copy of a slice from a DataFrame.\n",
      "Try using .loc[row_indexer,col_indexer] = value instead\n",
      "\n",
      "See the caveats in the documentation: https://pandas.pydata.org/pandas-docs/stable/user_guide/indexing.html#returning-a-view-versus-a-copy\n",
      "  globals()[f\"education_{year}\"].loc[:,\"Year\"] = [year]*len(globals()[f\"education_{year}\"])\n",
      "C:\\Users\\anies\\AppData\\Local\\Temp\\ipykernel_49412\\1060567082.py:3: SettingWithCopyWarning: \n",
      "A value is trying to be set on a copy of a slice from a DataFrame.\n",
      "Try using .loc[row_indexer,col_indexer] = value instead\n",
      "\n",
      "See the caveats in the documentation: https://pandas.pydata.org/pandas-docs/stable/user_guide/indexing.html#returning-a-view-versus-a-copy\n",
      "  globals()[f\"education_{year}\"].loc[:,\"Year\"] = [year]*len(globals()[f\"education_{year}\"])\n",
      "C:\\Users\\anies\\AppData\\Local\\Temp\\ipykernel_49412\\1060567082.py:3: SettingWithCopyWarning: \n",
      "A value is trying to be set on a copy of a slice from a DataFrame.\n",
      "Try using .loc[row_indexer,col_indexer] = value instead\n",
      "\n",
      "See the caveats in the documentation: https://pandas.pydata.org/pandas-docs/stable/user_guide/indexing.html#returning-a-view-versus-a-copy\n",
      "  globals()[f\"education_{year}\"].loc[:,\"Year\"] = [year]*len(globals()[f\"education_{year}\"])\n",
      "C:\\Users\\anies\\AppData\\Local\\Temp\\ipykernel_49412\\1060567082.py:3: SettingWithCopyWarning: \n",
      "A value is trying to be set on a copy of a slice from a DataFrame.\n",
      "Try using .loc[row_indexer,col_indexer] = value instead\n",
      "\n",
      "See the caveats in the documentation: https://pandas.pydata.org/pandas-docs/stable/user_guide/indexing.html#returning-a-view-versus-a-copy\n",
      "  globals()[f\"education_{year}\"].loc[:,\"Year\"] = [year]*len(globals()[f\"education_{year}\"])\n",
      "C:\\Users\\anies\\AppData\\Local\\Temp\\ipykernel_49412\\1060567082.py:3: SettingWithCopyWarning: \n",
      "A value is trying to be set on a copy of a slice from a DataFrame.\n",
      "Try using .loc[row_indexer,col_indexer] = value instead\n",
      "\n",
      "See the caveats in the documentation: https://pandas.pydata.org/pandas-docs/stable/user_guide/indexing.html#returning-a-view-versus-a-copy\n",
      "  globals()[f\"education_{year}\"].loc[:,\"Year\"] = [year]*len(globals()[f\"education_{year}\"])\n"
     ]
    }
   ],
   "source": [
    "for year in range(2010, 2017):\n",
    "    globals()[f\"education_{year}\"] = globals()[f\"inc_{year}\"][15:21]\n",
    "    globals()[f\"education_{year}\"].loc[:,\"Year\"] = [year]*len(globals()[f\"education_{year}\"])"
   ]
  },
  {
   "cell_type": "code",
   "execution_count": 23,
   "metadata": {},
   "outputs": [],
   "source": [
    "for year in range(2017, 2023):\n",
    "    globals()[f\"education_{year}\"] = globals()[f\"inc_{year}\"][15:21][['Label (Grouping)','Total','Total Margin of Error','Male',\n",
    "                                                    'Male Margin of Error','Female','Female Margin of Error']]\n",
    "    globals()[f\"education_{year}\"].loc[:,\"Year\"] = [year]*len(globals()[f\"education_{year}\"])"
   ]
  },
  {
   "cell_type": "code",
   "execution_count": 24,
   "metadata": {},
   "outputs": [],
   "source": [
    "median_salary_per_education = pd.concat([education_2022, education_2021, education_2020, education_2019, education_2018, education_2017,\n",
    "                                        education_2016, education_2015, education_2014, education_2013,education_2012, education_2011,\n",
    "                                        education_2010],ignore_index=True)"
   ]
  },
  {
   "cell_type": "code",
   "execution_count": 25,
   "metadata": {},
   "outputs": [],
   "source": [
    "median_salary_per_education.loc[:,'Total'] = median_salary_per_education.loc[:,'Total'].str.replace(',', '').astype(int)\n",
    "median_salary_per_education.loc[:,'Male'] = median_salary_per_education.loc[:,'Male'].str.replace(',', '').astype(int)\n",
    "median_salary_per_education.loc[:,'Female'] = median_salary_per_education.loc[:,'Female'].str.replace(',', '').astype(int)\n",
    "\n",
    "median_salary_per_education.loc[:,'Total Margin of Error'] = median_salary_per_education.loc[:,'Total Margin of Error'].str.replace('[^0-9]', '', regex=True).astype(int)\n",
    "median_salary_per_education.loc[:,'Male Margin of Error'] = median_salary_per_education.loc[:,'Male Margin of Error'].str.replace('[^0-9]', '', regex=True).astype(int)\n",
    "median_salary_per_education.loc[:,'Female Margin of Error'] = median_salary_per_education.loc[:,'Female Margin of Error'].str.replace('[^0-9]', '', regex=True).astype(int)"
   ]
  },
  {
   "cell_type": "code",
   "execution_count": 26,
   "metadata": {},
   "outputs": [],
   "source": [
    "median_salary_per_education['Label (Grouping)'] = median_salary_per_education['Label (Grouping)'].str.strip()"
   ]
  },
  {
   "cell_type": "code",
   "execution_count": 27,
   "metadata": {},
   "outputs": [
    {
     "data": {
      "text/html": [
       "<div>\n",
       "<style scoped>\n",
       "    .dataframe tbody tr th:only-of-type {\n",
       "        vertical-align: middle;\n",
       "    }\n",
       "\n",
       "    .dataframe tbody tr th {\n",
       "        vertical-align: top;\n",
       "    }\n",
       "\n",
       "    .dataframe thead th {\n",
       "        text-align: right;\n",
       "    }\n",
       "</style>\n",
       "<table border=\"1\" class=\"dataframe\">\n",
       "  <thead>\n",
       "    <tr style=\"text-align: right;\">\n",
       "      <th></th>\n",
       "      <th>Label (Grouping)</th>\n",
       "      <th>Total</th>\n",
       "      <th>Total Margin of Error</th>\n",
       "      <th>Male</th>\n",
       "      <th>Male Margin of Error</th>\n",
       "      <th>Female</th>\n",
       "      <th>Female Margin of Error</th>\n",
       "      <th>Year</th>\n",
       "    </tr>\n",
       "  </thead>\n",
       "  <tbody>\n",
       "    <tr>\n",
       "      <th>0</th>\n",
       "      <td>Population 25 years and over with earnings</td>\n",
       "      <td>42895</td>\n",
       "      <td>1124</td>\n",
       "      <td>47268</td>\n",
       "      <td>1483</td>\n",
       "      <td>38428</td>\n",
       "      <td>1264</td>\n",
       "      <td>2022</td>\n",
       "    </tr>\n",
       "    <tr>\n",
       "      <th>1</th>\n",
       "      <td>Less than high school graduate</td>\n",
       "      <td>26823</td>\n",
       "      <td>3708</td>\n",
       "      <td>33058</td>\n",
       "      <td>3779</td>\n",
       "      <td>21295</td>\n",
       "      <td>3492</td>\n",
       "      <td>2022</td>\n",
       "    </tr>\n",
       "    <tr>\n",
       "      <th>2</th>\n",
       "      <td>High school graduate (includes equivalency)</td>\n",
       "      <td>33742</td>\n",
       "      <td>2335</td>\n",
       "      <td>38888</td>\n",
       "      <td>2836</td>\n",
       "      <td>24740</td>\n",
       "      <td>4188</td>\n",
       "      <td>2022</td>\n",
       "    </tr>\n",
       "    <tr>\n",
       "      <th>3</th>\n",
       "      <td>Some college or associate's degree</td>\n",
       "      <td>37495</td>\n",
       "      <td>1783</td>\n",
       "      <td>43033</td>\n",
       "      <td>2508</td>\n",
       "      <td>31823</td>\n",
       "      <td>2405</td>\n",
       "      <td>2022</td>\n",
       "    </tr>\n",
       "    <tr>\n",
       "      <th>4</th>\n",
       "      <td>Bachelor's degree</td>\n",
       "      <td>54028</td>\n",
       "      <td>3139</td>\n",
       "      <td>61534</td>\n",
       "      <td>4341</td>\n",
       "      <td>48985</td>\n",
       "      <td>2053</td>\n",
       "      <td>2022</td>\n",
       "    </tr>\n",
       "  </tbody>\n",
       "</table>\n",
       "</div>"
      ],
      "text/plain": [
       "                              Label (Grouping)  Total Total Margin of Error  \\\n",
       "0   Population 25 years and over with earnings  42895                  1124   \n",
       "1               Less than high school graduate  26823                  3708   \n",
       "2  High school graduate (includes equivalency)  33742                  2335   \n",
       "3           Some college or associate's degree  37495                  1783   \n",
       "4                            Bachelor's degree  54028                  3139   \n",
       "\n",
       "    Male Male Margin of Error Female Female Margin of Error  Year  \n",
       "0  47268                 1483  38428                   1264  2022  \n",
       "1  33058                 3779  21295                   3492  2022  \n",
       "2  38888                 2836  24740                   4188  2022  \n",
       "3  43033                 2508  31823                   2405  2022  \n",
       "4  61534                 4341  48985                   2053  2022  "
      ]
     },
     "execution_count": 27,
     "metadata": {},
     "output_type": "execute_result"
    }
   ],
   "source": [
    "median_salary_per_education.head()"
   ]
  },
  {
   "cell_type": "code",
   "execution_count": 28,
   "metadata": {},
   "outputs": [],
   "source": [
    "median_salary_per_education.to_csv('median_salary_per_education_clean.csv')"
   ]
  },
  {
   "cell_type": "code",
   "execution_count": 29,
   "metadata": {},
   "outputs": [
    {
     "name": "stderr",
     "output_type": "stream",
     "text": [
      "C:\\Users\\anies\\AppData\\Local\\Temp\\ipykernel_49412\\3038486836.py:3: SettingWithCopyWarning: \n",
      "A value is trying to be set on a copy of a slice from a DataFrame.\n",
      "Try using .loc[row_indexer,col_indexer] = value instead\n",
      "\n",
      "See the caveats in the documentation: https://pandas.pydata.org/pandas-docs/stable/user_guide/indexing.html#returning-a-view-versus-a-copy\n",
      "  globals()[f\"median_{year}\"].loc[:,\"Year\"] = [year]*len(globals()[f\"median_{year}\"])\n",
      "C:\\Users\\anies\\AppData\\Local\\Temp\\ipykernel_49412\\3038486836.py:3: SettingWithCopyWarning: \n",
      "A value is trying to be set on a copy of a slice from a DataFrame.\n",
      "Try using .loc[row_indexer,col_indexer] = value instead\n",
      "\n",
      "See the caveats in the documentation: https://pandas.pydata.org/pandas-docs/stable/user_guide/indexing.html#returning-a-view-versus-a-copy\n",
      "  globals()[f\"median_{year}\"].loc[:,\"Year\"] = [year]*len(globals()[f\"median_{year}\"])\n",
      "C:\\Users\\anies\\AppData\\Local\\Temp\\ipykernel_49412\\3038486836.py:3: SettingWithCopyWarning: \n",
      "A value is trying to be set on a copy of a slice from a DataFrame.\n",
      "Try using .loc[row_indexer,col_indexer] = value instead\n",
      "\n",
      "See the caveats in the documentation: https://pandas.pydata.org/pandas-docs/stable/user_guide/indexing.html#returning-a-view-versus-a-copy\n",
      "  globals()[f\"median_{year}\"].loc[:,\"Year\"] = [year]*len(globals()[f\"median_{year}\"])\n",
      "C:\\Users\\anies\\AppData\\Local\\Temp\\ipykernel_49412\\3038486836.py:3: SettingWithCopyWarning: \n",
      "A value is trying to be set on a copy of a slice from a DataFrame.\n",
      "Try using .loc[row_indexer,col_indexer] = value instead\n",
      "\n",
      "See the caveats in the documentation: https://pandas.pydata.org/pandas-docs/stable/user_guide/indexing.html#returning-a-view-versus-a-copy\n",
      "  globals()[f\"median_{year}\"].loc[:,\"Year\"] = [year]*len(globals()[f\"median_{year}\"])\n",
      "C:\\Users\\anies\\AppData\\Local\\Temp\\ipykernel_49412\\3038486836.py:3: SettingWithCopyWarning: \n",
      "A value is trying to be set on a copy of a slice from a DataFrame.\n",
      "Try using .loc[row_indexer,col_indexer] = value instead\n",
      "\n",
      "See the caveats in the documentation: https://pandas.pydata.org/pandas-docs/stable/user_guide/indexing.html#returning-a-view-versus-a-copy\n",
      "  globals()[f\"median_{year}\"].loc[:,\"Year\"] = [year]*len(globals()[f\"median_{year}\"])\n",
      "C:\\Users\\anies\\AppData\\Local\\Temp\\ipykernel_49412\\3038486836.py:3: SettingWithCopyWarning: \n",
      "A value is trying to be set on a copy of a slice from a DataFrame.\n",
      "Try using .loc[row_indexer,col_indexer] = value instead\n",
      "\n",
      "See the caveats in the documentation: https://pandas.pydata.org/pandas-docs/stable/user_guide/indexing.html#returning-a-view-versus-a-copy\n",
      "  globals()[f\"median_{year}\"].loc[:,\"Year\"] = [year]*len(globals()[f\"median_{year}\"])\n",
      "C:\\Users\\anies\\AppData\\Local\\Temp\\ipykernel_49412\\3038486836.py:3: SettingWithCopyWarning: \n",
      "A value is trying to be set on a copy of a slice from a DataFrame.\n",
      "Try using .loc[row_indexer,col_indexer] = value instead\n",
      "\n",
      "See the caveats in the documentation: https://pandas.pydata.org/pandas-docs/stable/user_guide/indexing.html#returning-a-view-versus-a-copy\n",
      "  globals()[f\"median_{year}\"].loc[:,\"Year\"] = [year]*len(globals()[f\"median_{year}\"])\n"
     ]
    }
   ],
   "source": [
    "for year in range(2010, 2017):\n",
    "    globals()[f\"median_{year}\"] = globals()[f\"inc_{year}\"][0:2]\n",
    "    globals()[f\"median_{year}\"].loc[:,\"Year\"] = [year]*len(globals()[f\"median_{year}\"])"
   ]
  },
  {
   "cell_type": "code",
   "execution_count": 30,
   "metadata": {},
   "outputs": [],
   "source": [
    "for year in range(2017, 2023):\n",
    "    globals()[f\"median_{year}\"] = globals()[f\"inc_{year}\"][0:2][['Label (Grouping)','Total','Total Margin of Error','Male',\n",
    "                                                    'Male Margin of Error','Female','Female Margin of Error']]\n",
    "    globals()[f\"median_{year}\"].loc[:,\"Year\"] = [year]*len(globals()[f\"median_{year}\"])"
   ]
  },
  {
   "cell_type": "code",
   "execution_count": 31,
   "metadata": {},
   "outputs": [],
   "source": [
    "median_salary = pd.concat([median_2022, median_2021, median_2020, median_2019, median_2018, median_2017,median_2016, median_2015, \n",
    "                           median_2014, median_2013,median_2012, median_2011,median_2010],ignore_index=True)"
   ]
  },
  {
   "cell_type": "code",
   "execution_count": 32,
   "metadata": {},
   "outputs": [],
   "source": [
    "median_salary.loc[:,'Total'] = median_salary.loc[:,'Total'].str.replace(',', '').astype(int)\n",
    "median_salary.loc[:,'Male'] = median_salary.loc[:,'Male'].str.replace(',', '').astype(int)\n",
    "median_salary.loc[:,'Female'] = median_salary.loc[:,'Female'].str.replace(',', '').astype(int)\n",
    "\n",
    "median_salary.loc[:,'Total Margin of Error'] = median_salary.loc[:,'Total Margin of Error'].str.replace('[^0-9]', '', regex=True).astype(int)\n",
    "median_salary.loc[:,'Male Margin of Error'] = median_salary.loc[:,'Male Margin of Error'].str.replace('[^0-9]', '', regex=True).astype(int)\n",
    "median_salary.loc[:,'Female Margin of Error'] = median_salary.loc[:,'Female Margin of Error'].str.replace('[^0-9]', '', regex=True).astype(int)\n",
    "\n",
    "median_salary['Label (Grouping)'] = median_salary['Label (Grouping)'].str.strip()"
   ]
  },
  {
   "cell_type": "code",
   "execution_count": 33,
   "metadata": {},
   "outputs": [
    {
     "data": {
      "text/html": [
       "<div>\n",
       "<style scoped>\n",
       "    .dataframe tbody tr th:only-of-type {\n",
       "        vertical-align: middle;\n",
       "    }\n",
       "\n",
       "    .dataframe tbody tr th {\n",
       "        vertical-align: top;\n",
       "    }\n",
       "\n",
       "    .dataframe thead th {\n",
       "        text-align: right;\n",
       "    }\n",
       "</style>\n",
       "<table border=\"1\" class=\"dataframe\">\n",
       "  <thead>\n",
       "    <tr style=\"text-align: right;\">\n",
       "      <th></th>\n",
       "      <th>Label (Grouping)</th>\n",
       "      <th>Total</th>\n",
       "      <th>Total Margin of Error</th>\n",
       "      <th>Male</th>\n",
       "      <th>Male Margin of Error</th>\n",
       "      <th>Female</th>\n",
       "      <th>Female Margin of Error</th>\n",
       "      <th>Year</th>\n",
       "    </tr>\n",
       "  </thead>\n",
       "  <tbody>\n",
       "    <tr>\n",
       "      <th>0</th>\n",
       "      <td>Population 16 years and over with earnings</td>\n",
       "      <td>116002</td>\n",
       "      <td>1921</td>\n",
       "      <td>59669</td>\n",
       "      <td>1321</td>\n",
       "      <td>56333</td>\n",
       "      <td>1334</td>\n",
       "      <td>2022</td>\n",
       "    </tr>\n",
       "    <tr>\n",
       "      <th>1</th>\n",
       "      <td>Median earnings (dollars)</td>\n",
       "      <td>35865</td>\n",
       "      <td>797</td>\n",
       "      <td>40405</td>\n",
       "      <td>1133</td>\n",
       "      <td>31363</td>\n",
       "      <td>1440</td>\n",
       "      <td>2022</td>\n",
       "    </tr>\n",
       "    <tr>\n",
       "      <th>2</th>\n",
       "      <td>Population 16 years and over with earnings</td>\n",
       "      <td>115173</td>\n",
       "      <td>1612</td>\n",
       "      <td>59670</td>\n",
       "      <td>1413</td>\n",
       "      <td>55503</td>\n",
       "      <td>1192</td>\n",
       "      <td>2021</td>\n",
       "    </tr>\n",
       "    <tr>\n",
       "      <th>3</th>\n",
       "      <td>Median earnings (dollars)</td>\n",
       "      <td>31846</td>\n",
       "      <td>792</td>\n",
       "      <td>35421</td>\n",
       "      <td>1122</td>\n",
       "      <td>27511</td>\n",
       "      <td>1043</td>\n",
       "      <td>2021</td>\n",
       "    </tr>\n",
       "    <tr>\n",
       "      <th>4</th>\n",
       "      <td>Population 16 years and over with earnings</td>\n",
       "      <td>115411</td>\n",
       "      <td>1619</td>\n",
       "      <td>59950</td>\n",
       "      <td>1218</td>\n",
       "      <td>55461</td>\n",
       "      <td>1299</td>\n",
       "      <td>2020</td>\n",
       "    </tr>\n",
       "  </tbody>\n",
       "</table>\n",
       "</div>"
      ],
      "text/plain": [
       "                             Label (Grouping)   Total Total Margin of Error  \\\n",
       "0  Population 16 years and over with earnings  116002                  1921   \n",
       "1                   Median earnings (dollars)   35865                   797   \n",
       "2  Population 16 years and over with earnings  115173                  1612   \n",
       "3                   Median earnings (dollars)   31846                   792   \n",
       "4  Population 16 years and over with earnings  115411                  1619   \n",
       "\n",
       "    Male Male Margin of Error Female Female Margin of Error  Year  \n",
       "0  59669                 1321  56333                   1334  2022  \n",
       "1  40405                 1133  31363                   1440  2022  \n",
       "2  59670                 1413  55503                   1192  2021  \n",
       "3  35421                 1122  27511                   1043  2021  \n",
       "4  59950                 1218  55461                   1299  2020  "
      ]
     },
     "execution_count": 33,
     "metadata": {},
     "output_type": "execute_result"
    }
   ],
   "source": [
    "median_salary.head()"
   ]
  },
  {
   "cell_type": "code",
   "execution_count": 34,
   "metadata": {},
   "outputs": [],
   "source": [
    "median_salary.to_csv('median_salary_clean.csv')"
   ]
  }
 ],
 "metadata": {
  "kernelspec": {
   "display_name": "base",
   "language": "python",
   "name": "python3"
  },
  "language_info": {
   "codemirror_mode": {
    "name": "ipython",
    "version": 3
   },
   "file_extension": ".py",
   "mimetype": "text/x-python",
   "name": "python",
   "nbconvert_exporter": "python",
   "pygments_lexer": "ipython3",
   "version": "3.11.1"
  }
 },
 "nbformat": 4,
 "nbformat_minor": 2
}
