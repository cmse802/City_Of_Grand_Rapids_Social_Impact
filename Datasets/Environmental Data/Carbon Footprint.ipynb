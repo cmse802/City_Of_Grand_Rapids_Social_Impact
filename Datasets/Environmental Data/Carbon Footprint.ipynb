{
 "cells": [
  {
   "cell_type": "code",
   "execution_count": 12,
   "id": "1d439a92",
   "metadata": {},
   "outputs": [],
   "source": [
    "import pandas as pd\n",
    "import numpy as np\n",
    "import matplotlib.pyplot as plt\n",
    "%matplotlib inline"
   ]
  },
  {
   "cell_type": "code",
   "execution_count": 2,
   "id": "ea0ed399",
   "metadata": {},
   "outputs": [],
   "source": [
    "carbon = pd.read_csv(\"HE_-_Carbon_Footprint_of_City_Buildings__Utilities_and_Fleet__Metric_Tons_of_Carbon_Dioxide_Equivalents__20240127.csv\")"
   ]
  },
  {
   "cell_type": "code",
   "execution_count": 3,
   "id": "39e89171",
   "metadata": {},
   "outputs": [],
   "source": [
    "carbon = carbon.drop([\"CY Start\", \"CY End\"], axis = 1)"
   ]
  },
  {
   "cell_type": "code",
   "execution_count": 4,
   "id": "3b065a58",
   "metadata": {},
   "outputs": [],
   "source": [
    "carbon[\"Calendar Year\"] = carbon[\"Calendar Year\"].str.replace(\"CY\", \"\")"
   ]
  },
  {
   "cell_type": "code",
   "execution_count": 7,
   "id": "2aff8822",
   "metadata": {},
   "outputs": [],
   "source": [
    "carbon = carbon.pivot(index = \"Calendar Year\", columns = \"Category\", values = \"Value\")"
   ]
  },
  {
   "cell_type": "code",
   "execution_count": 11,
   "id": "ec5898d9",
   "metadata": {},
   "outputs": [
    {
     "data": {
      "text/html": [
       "<div>\n",
       "<style scoped>\n",
       "    .dataframe tbody tr th:only-of-type {\n",
       "        vertical-align: middle;\n",
       "    }\n",
       "\n",
       "    .dataframe tbody tr th {\n",
       "        vertical-align: top;\n",
       "    }\n",
       "\n",
       "    .dataframe thead th {\n",
       "        text-align: right;\n",
       "    }\n",
       "</style>\n",
       "<table border=\"1\" class=\"dataframe\">\n",
       "  <thead>\n",
       "    <tr style=\"text-align: right;\">\n",
       "      <th>Category</th>\n",
       "      <th>Electricity</th>\n",
       "      <th>Fleet</th>\n",
       "      <th>Natural Gas</th>\n",
       "      <th>Steam</th>\n",
       "      <th>Total</th>\n",
       "    </tr>\n",
       "    <tr>\n",
       "      <th>Calendar Year</th>\n",
       "      <th></th>\n",
       "      <th></th>\n",
       "      <th></th>\n",
       "      <th></th>\n",
       "      <th></th>\n",
       "    </tr>\n",
       "  </thead>\n",
       "  <tbody>\n",
       "    <tr>\n",
       "      <th>2015</th>\n",
       "      <td>49717</td>\n",
       "      <td>6819</td>\n",
       "      <td>5059</td>\n",
       "      <td>1118</td>\n",
       "      <td>62713</td>\n",
       "    </tr>\n",
       "    <tr>\n",
       "      <th>2016</th>\n",
       "      <td>42121</td>\n",
       "      <td>7234</td>\n",
       "      <td>4301</td>\n",
       "      <td>1077</td>\n",
       "      <td>54733</td>\n",
       "    </tr>\n",
       "    <tr>\n",
       "      <th>2017</th>\n",
       "      <td>42056</td>\n",
       "      <td>7406</td>\n",
       "      <td>4324</td>\n",
       "      <td>972</td>\n",
       "      <td>54758</td>\n",
       "    </tr>\n",
       "    <tr>\n",
       "      <th>2018</th>\n",
       "      <td>44921</td>\n",
       "      <td>6806</td>\n",
       "      <td>5012</td>\n",
       "      <td>1155</td>\n",
       "      <td>57894</td>\n",
       "    </tr>\n",
       "    <tr>\n",
       "      <th>2019</th>\n",
       "      <td>41567</td>\n",
       "      <td>6720</td>\n",
       "      <td>5491</td>\n",
       "      <td>1205</td>\n",
       "      <td>54983</td>\n",
       "    </tr>\n",
       "    <tr>\n",
       "      <th>2020</th>\n",
       "      <td>41322</td>\n",
       "      <td>5621</td>\n",
       "      <td>4401</td>\n",
       "      <td>1105</td>\n",
       "      <td>52449</td>\n",
       "    </tr>\n",
       "  </tbody>\n",
       "</table>\n",
       "</div>"
      ],
      "text/plain": [
       "Category       Electricity  Fleet  Natural Gas  Steam  Total\n",
       "Calendar Year                                               \n",
       "2015                 49717   6819         5059   1118  62713\n",
       "2016                 42121   7234         4301   1077  54733\n",
       "2017                 42056   7406         4324    972  54758\n",
       "2018                 44921   6806         5012   1155  57894\n",
       "2019                 41567   6720         5491   1205  54983\n",
       "2020                 41322   5621         4401   1105  52449"
      ]
     },
     "execution_count": 11,
     "metadata": {},
     "output_type": "execute_result"
    }
   ],
   "source": [
    "carbon"
   ]
  },
  {
   "cell_type": "code",
   "execution_count": 10,
   "id": "5d4415c2",
   "metadata": {
    "scrolled": true
   },
   "outputs": [
    {
     "data": {
      "text/html": [
       "<div>\n",
       "<style scoped>\n",
       "    .dataframe tbody tr th:only-of-type {\n",
       "        vertical-align: middle;\n",
       "    }\n",
       "\n",
       "    .dataframe tbody tr th {\n",
       "        vertical-align: top;\n",
       "    }\n",
       "\n",
       "    .dataframe thead th {\n",
       "        text-align: right;\n",
       "    }\n",
       "</style>\n",
       "<table border=\"1\" class=\"dataframe\">\n",
       "  <thead>\n",
       "    <tr style=\"text-align: right;\">\n",
       "      <th>Category</th>\n",
       "      <th>Electricity</th>\n",
       "      <th>Fleet</th>\n",
       "      <th>Natural Gas</th>\n",
       "      <th>Steam</th>\n",
       "      <th>Total</th>\n",
       "    </tr>\n",
       "  </thead>\n",
       "  <tbody>\n",
       "    <tr>\n",
       "      <th>count</th>\n",
       "      <td>6.000000</td>\n",
       "      <td>6.000000</td>\n",
       "      <td>6.000000</td>\n",
       "      <td>6.000000</td>\n",
       "      <td>6.000000</td>\n",
       "    </tr>\n",
       "    <tr>\n",
       "      <th>mean</th>\n",
       "      <td>43617.333333</td>\n",
       "      <td>6767.666667</td>\n",
       "      <td>4764.666667</td>\n",
       "      <td>1105.333333</td>\n",
       "      <td>56255.000000</td>\n",
       "    </tr>\n",
       "    <tr>\n",
       "      <th>std</th>\n",
       "      <td>3257.443087</td>\n",
       "      <td>623.884177</td>\n",
       "      <td>493.313964</td>\n",
       "      <td>78.919368</td>\n",
       "      <td>3607.026421</td>\n",
       "    </tr>\n",
       "    <tr>\n",
       "      <th>min</th>\n",
       "      <td>41322.000000</td>\n",
       "      <td>5621.000000</td>\n",
       "      <td>4301.000000</td>\n",
       "      <td>972.000000</td>\n",
       "      <td>52449.000000</td>\n",
       "    </tr>\n",
       "    <tr>\n",
       "      <th>25%</th>\n",
       "      <td>41689.250000</td>\n",
       "      <td>6741.500000</td>\n",
       "      <td>4343.250000</td>\n",
       "      <td>1084.000000</td>\n",
       "      <td>54739.250000</td>\n",
       "    </tr>\n",
       "    <tr>\n",
       "      <th>50%</th>\n",
       "      <td>42088.500000</td>\n",
       "      <td>6812.500000</td>\n",
       "      <td>4706.500000</td>\n",
       "      <td>1111.500000</td>\n",
       "      <td>54870.500000</td>\n",
       "    </tr>\n",
       "    <tr>\n",
       "      <th>75%</th>\n",
       "      <td>44221.000000</td>\n",
       "      <td>7130.250000</td>\n",
       "      <td>5047.250000</td>\n",
       "      <td>1145.750000</td>\n",
       "      <td>57166.250000</td>\n",
       "    </tr>\n",
       "    <tr>\n",
       "      <th>max</th>\n",
       "      <td>49717.000000</td>\n",
       "      <td>7406.000000</td>\n",
       "      <td>5491.000000</td>\n",
       "      <td>1205.000000</td>\n",
       "      <td>62713.000000</td>\n",
       "    </tr>\n",
       "  </tbody>\n",
       "</table>\n",
       "</div>"
      ],
      "text/plain": [
       "Category   Electricity        Fleet  Natural Gas        Steam         Total\n",
       "count         6.000000     6.000000     6.000000     6.000000      6.000000\n",
       "mean      43617.333333  6767.666667  4764.666667  1105.333333  56255.000000\n",
       "std        3257.443087   623.884177   493.313964    78.919368   3607.026421\n",
       "min       41322.000000  5621.000000  4301.000000   972.000000  52449.000000\n",
       "25%       41689.250000  6741.500000  4343.250000  1084.000000  54739.250000\n",
       "50%       42088.500000  6812.500000  4706.500000  1111.500000  54870.500000\n",
       "75%       44221.000000  7130.250000  5047.250000  1145.750000  57166.250000\n",
       "max       49717.000000  7406.000000  5491.000000  1205.000000  62713.000000"
      ]
     },
     "execution_count": 10,
     "metadata": {},
     "output_type": "execute_result"
    }
   ],
   "source": [
    "carbon.describe()"
   ]
  },
  {
   "cell_type": "code",
   "execution_count": 35,
   "id": "5189fbd3",
   "metadata": {},
   "outputs": [
    {
     "data": {
      "image/png": "[encoded data removed]",
      "text/plain": [
       "<Figure size 640x480 with 1 Axes>"
      ]
     },
     "metadata": {},
     "output_type": "display_data"
    }
   ],
   "source": [
    "plt.plot(carbon.Electricity, label = \"Electricity\")\n",
    "plt.plot(carbon.Fleet, label = \"Fleet\")\n",
    "plt.plot(carbon[\"Natural Gas\"], label = \"Natural Gas\")\n",
    "plt.plot(carbon.Steam, label = \"Steam\")\n",
    "plt.legend()\n",
    "plt.show()"
   ]
  },
  {
   "cell_type": "code",
   "execution_count": 36,
   "id": "3f2af817",
   "metadata": {},
   "outputs": [
    {
     "data": {
      "text/plain": [
       "<AxesSubplot:xlabel='Calendar Year'>"
      ]
     },
     "execution_count": 36,
     "metadata": {},
     "output_type": "execute_result"
    },
    {
     "data": {
      "image/png": "[encoded data removed]",
      "text/plain": [
       "<Figure size 640x480 with 1 Axes>"
      ]
     },
     "metadata": {},
     "output_type": "display_data"
    }
   ],
   "source": [
    "carbon.plot(y = [\"Electricity\", \"Fleet\", \"Natural Gas\", \"Steam\"], kind = \"bar\")"
   ]
  },
  {
   "cell_type": "code",
   "execution_count": 34,
   "id": "5809e2cd",
   "metadata": {},
   "outputs": [],
   "source": [
    "carbon.to_csv(\"Carbon Footprint.csv\")"
   ]
  }
 ],
 "metadata": {
  "kernelspec": {
   "display_name": "Python 3 (ipykernel)",
   "language": "python",
   "name": "python3"
  },
  "language_info": {
   "codemirror_mode": {
    "name": "ipython",
    "version": 3
   },
   "file_extension": ".py",
   "mimetype": "text/x-python",
   "name": "python",
   "nbconvert_exporter": "python",
   "pygments_lexer": "ipython3",
   "version": "3.9.13"
  }
 },
 "nbformat": 4,
 "nbformat_minor": 5
}
