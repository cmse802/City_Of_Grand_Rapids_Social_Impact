{
  "nbformat": 4,
  "nbformat_minor": 0,
  "metadata": {
    "colab": {
      "provenance": []
    },
    "kernelspec": {
      "name": "python3",
      "display_name": "Python 3"
    },
    "language_info": {
      "name": "python"
    }
  },
  "cells": [
    {
      "cell_type": "markdown",
      "source": [
        "#<u>Foreword</u>"
      ],
      "metadata": {
        "id": "lJOt-SuAQWOu"
      }
    },
    {
      "cell_type": "markdown",
      "source": [
        "This notebook is serving as a sandbox for all datasets that are currently gathered.\n",
        "\n",
        "This notebook will show every manipulation made to the data (if necessary), or simply display changes"
      ],
      "metadata": {
        "id": "XqdIm1-IQfcS"
      }
    },
    {
      "cell_type": "markdown",
      "source": [
        "# <u>Data Loading</u>"
      ],
      "metadata": {
        "id": "9vhIPD2qNxRq"
      }
    },
    {
      "cell_type": "code",
      "source": [
        "#This cell is only applicable if working from a google drive. Otherwise, you can delete this cell\n",
        "from google.colab import drive\n",
        "drive.mount('/content/drive')"
      ],
      "metadata": {
        "colab": {
          "base_uri": "https://localhost:8080/"
        },
        "id": "aWc-Wk9bJ4st",
        "outputId": "5f2895bf-1601-4326-f398-312508f35a70"
      },
      "execution_count": 3,
      "outputs": [
        {
          "output_type": "stream",
          "name": "stdout",
          "text": [
            "Drive already mounted at /content/drive; to attempt to forcibly remount, call drive.mount(\"/content/drive\", force_remount=True).\n"
          ]
        }
      ]
    },
    {
      "cell_type": "code",
      "execution_count": 4,
      "metadata": {
        "id": "GK3M2FKrbYG1"
      },
      "outputs": [],
      "source": [
        "import numpy as np\n",
        "import pandas as pd"
      ]
    },
    {
      "cell_type": "markdown",
      "source": [
        "To avoid confusion because of the sheer amount of datasets we've gathered (or will gather), I've decided to keep the original names of the datasets for representing the pandas dataframes variables. This is so that we can directly reference the file, if necessary.\n",
        "\n",
        "The read_csv() function currently reads from a personal drive to load in the data. If you wish to read in files locally, replace the string with your own filepath"
      ],
      "metadata": {
        "id": "WKgboUUVQHGY"
      }
    },
    {
      "cell_type": "code",
      "source": [
        "\"\"\"\n",
        "Files gathered from grandrapidsmi.gov\n",
        "\"\"\"\n",
        "ECC__Parks__Number_of_Events_and_Number_of_People_Participating_in_Events_Led_by_the_City_20240123 = pd.read_csv('/content/drive/MyDrive/School Courses/2024 Spring Semester/CMSE 495/Datasets/From grandrapidsmi.gov/ECC_-_Parks__Number_of_Events_and_Number_of_People_Participating_in_Events_Led_by_the_City_20240123.csv')\n",
        "EPA__Percent_of_Residents_Earning_above_the_Asset_Limited__Income_Constrained__Employed__ALICE__Threshold_20240123 = pd.read_csv('/content/drive/MyDrive/School Courses/2024 Spring Semester/CMSE 495/Datasets/From grandrapidsmi.gov/EPA_-_Percent_of_Residents_Earning_above_the_Asset_Limited__Income_Constrained__Employed__ALICE__Threshold_20240123.csv')\n",
        "GE__Human_Resources_Employment_Data_20240122 = pd.read_csv('/content/drive/MyDrive/School Courses/2024 Spring Semester/CMSE 495/Datasets/From grandrapidsmi.gov/GE_-_Human_Resources_Employment_Data_20240122.csv')\n",
        "NIBRS_Format_Dataset_20240122 = pd.read_csv('/content/drive/MyDrive/School Courses/2024 Spring Semester/CMSE 495/Datasets/From grandrapidsmi.gov/NIBRS_Format_Dataset_20240122.csv')\n",
        "SC__Number_of_Serious_Injuries_and_Fatalities_by_Mode_20240122 = pd.read_csv('/content/drive/MyDrive/School Courses/2024 Spring Semester/CMSE 495/Datasets/From grandrapidsmi.gov/SC_-_Number_of_Serious_Injuries_and_Fatalities_by_Mode_20240122.csv')\n",
        "US_Population_By_County = pd.read_csv('/content/drive/MyDrive/School Courses/2024 Spring Semester/CMSE 495/Datasets/From grandrapidsmi.gov/US_Population_By_County.csv')\n",
        "\n",
        "\n",
        "################################################################################\n",
        "\n",
        "\"\"\"\n",
        "Files fathered from [Insert data source]\n",
        "\"\"\""
      ],
      "metadata": {
        "id": "iHC0IkGdLRO8"
      },
      "execution_count": 11,
      "outputs": []
    },
    {
      "cell_type": "code",
      "source": [
        "#ECC__Parks__Number_of_Events_and_Number_of_People_Participating_in_Events_Led_by_the_City_20240123"
      ],
      "metadata": {
        "id": "3NEfeJ9pLyJT"
      },
      "execution_count": 9,
      "outputs": []
    },
    {
      "cell_type": "code",
      "source": [],
      "metadata": {
        "id": "jMfYpIFOL3Dl"
      },
      "execution_count": null,
      "outputs": []
    },
    {
      "cell_type": "markdown",
      "source": [
        "# Data Cleaning"
      ],
      "metadata": {
        "id": "NBfbkTNrN8SM"
      }
    },
    {
      "cell_type": "code",
      "source": [],
      "metadata": {
        "id": "cazNZFfjN8fU"
      },
      "execution_count": null,
      "outputs": []
    }
  ]
}