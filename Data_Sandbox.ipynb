{
  "nbformat": 4,
  "nbformat_minor": 0,
  "metadata": {
    "colab": {
      "provenance": []
    },
    "kernelspec": {
      "name": "python3",
      "display_name": "Python 3"
    },
    "language_info": {
      "name": "python"
    }
  },
  "cells": [
    {
      "cell_type": "markdown",
      "source": [
        "#<u>Foreword</u>"
      ],
      "metadata": {
        "id": "lJOt-SuAQWOu"
      }
    },
    {
      "cell_type": "markdown",
      "source": [
        "This notebook is serving as a sandbox for all datasets that are currently gathered.\n",
        "\n",
        "This notebook will show every manipulation made to the data (if necessary), or simply display changes"
      ],
      "metadata": {
        "id": "XqdIm1-IQfcS"
      }
    },
    {
      "cell_type": "markdown",
      "source": [
        "# <u>Data Loading</u>"
      ],
      "metadata": {
        "id": "9vhIPD2qNxRq"
      }
    },
    {
      "cell_type": "code",
      "source": [
        "#This cell is only applicable if working from a google drive. Otherwise, you can delete this cell\n",
        "from google.colab import drive\n",
        "drive.mount('/content/drive')"
      ],
      "metadata": {
        "colab": {
          "base_uri": "https://localhost:8080/"
        },
        "id": "aWc-Wk9bJ4st",
        "outputId": "e565ed15-e057-49b0-ac62-2a775b46a586"
      },
      "execution_count": 2,
      "outputs": [
        {
          "output_type": "stream",
          "name": "stdout",
          "text": [
            "Mounted at /content/drive\n"
          ]
        }
      ]
    },
    {
      "cell_type": "code",
      "execution_count": 3,
      "metadata": {
        "id": "GK3M2FKrbYG1"
      },
      "outputs": [],
      "source": [
        "import numpy as np\n",
        "import pandas as pd"
      ]
    },
    {
      "cell_type": "markdown",
      "source": [
        "> To avoid confusion because of the sheer amount of datasets we've gathered (or will gather), I've decided to keep the original names of the datasets for representing the pandas dataframes variables. This is so that we can directly reference the file, if necessary.\n",
        "\n",
        "> The read_csv() function currently reads from a personal drive to load in the data. If you wish to read in files locally, replace the string with your own filepath"
      ],
      "metadata": {
        "id": "WKgboUUVQHGY"
      }
    },
    {
      "cell_type": "code",
      "source": [
        "\"\"\"\n",
        "Census Data\n",
        "\"\"\"\n",
        "US_Population_By_County = pd.read_csv('/content/drive/MyDrive/School Courses/2024 Spring Semester/CMSE 495/Datasets/From grandrapidsmi.gov/US_Population_By_County.csv')\n",
        "\n",
        "\"\"\"\n",
        "Crime Data\n",
        "\"\"\"\n",
        "NIBRS_Format_Dataset_20240122 = pd.read_csv('/content/drive/MyDrive/School Courses/2024 Spring Semester/CMSE 495/Datasets/From grandrapidsmi.gov/NIBRS_Format_Dataset_20240122.csv')\n",
        "SC__Number_of_Serious_Injuries_and_Fatalities_by_Mode_20240122 = pd.read_csv('/content/drive/MyDrive/School Courses/2024 Spring Semester/CMSE 495/Datasets/From grandrapidsmi.gov/SC_-_Number_of_Serious_Injuries_and_Fatalities_by_Mode_20240122.csv')\n",
        "\n",
        "\"\"\"\n",
        "Environmental Data\n",
        "\"\"\"\n",
        "\n",
        "\"\"\"\n",
        "Health Data\n",
        "\"\"\"\n",
        "\n",
        "\"\"\"\n",
        "Income Data\n",
        "\"\"\"\n",
        "EPA__Percent_of_Residents_Earning_above_the_Asset_Limited__Income_Constrained__Employed__ALICE__Threshold_20240123 = pd.read_csv('/content/drive/MyDrive/School Courses/2024 Spring Semester/CMSE 495/Datasets/From grandrapidsmi.gov/EPA_-_Percent_of_Residents_Earning_above_the_Asset_Limited__Income_Constrained__Employed__ALICE__Threshold_20240123.csv')\n",
        "GE__Human_Resources_Employment_Data_20240122 = pd.read_csv('/content/drive/MyDrive/School Courses/2024 Spring Semester/CMSE 495/Datasets/From grandrapidsmi.gov/GE_-_Human_Resources_Employment_Data_20240122.csv')\n",
        "\n",
        "\"\"\"\n",
        "Miscellanous Data\n",
        "\"\"\"\n",
        "ECC__Parks__Number_of_Events_and_Number_of_People_Participating_in_Events_Led_by_the_City_20240123 = pd.read_csv('/content/drive/MyDrive/School Courses/2024 Spring Semester/CMSE 495/Datasets/From grandrapidsmi.gov/ECC_-_Parks__Number_of_Events_and_Number_of_People_Participating_in_Events_Led_by_the_City_20240123.csv')\n"
      ],
      "metadata": {
        "colab": {
          "base_uri": "https://localhost:8080/",
          "height": 35
        },
        "id": "iHC0IkGdLRO8",
        "outputId": "b9d5f4d5-be50-4939-dae7-775b27cb8178"
      },
      "execution_count": 7,
      "outputs": [
        {
          "output_type": "execute_result",
          "data": {
            "text/plain": [
              "'\\nFiles gathered from [Insert data source]\\n'"
            ],
            "application/vnd.google.colaboratory.intrinsic+json": {
              "type": "string"
            }
          },
          "metadata": {},
          "execution_count": 7
        }
      ]
    },
    {
      "cell_type": "markdown",
      "source": [
        "## Visualizations of the DataFrames"
      ],
      "metadata": {
        "id": "iQDlh82ChZTt"
      }
    },
    {
      "cell_type": "markdown",
      "source": [
        "Below are the outputs for each dataset read into a pandas dataframe"
      ],
      "metadata": {
        "id": "f3F75c63hze2"
      }
    },
    {
      "cell_type": "code",
      "source": [
        "ECC__Parks__Number_of_Events_and_Number_of_People_Participating_in_Events_Led_by_the_City_20240123.head(3)"
      ],
      "metadata": {
        "colab": {
          "base_uri": "https://localhost:8080/",
          "height": 143
        },
        "id": "UbKS21t-hYfE",
        "outputId": "f945894e-3fee-46d5-97b1-7fd94eb687ba"
      },
      "execution_count": 6,
      "outputs": [
        {
          "output_type": "execute_result",
          "data": {
            "text/plain": [
              "  Reporting Period Start Date Reporting Period End Date              Category  \\\n",
              "0      10/01/2016 12:00:00 AM    12/31/2016 12:00:00 AM  Parks and Recreation   \n",
              "1      04/01/2017 12:00:00 AM    06/30/2017 12:00:00 AM  Parks and Recreation   \n",
              "2      04/01/2017 12:00:00 AM    06/30/2017 12:00:00 AM  Parks and Recreation   \n",
              "\n",
              "                  Subcategory  Number of Events  People in Attendance  \n",
              "0  Millage - Reopening events               2.0                  95.0  \n",
              "1  Millage - Reopening events               1.0                  45.0  \n",
              "2           Recreation events               1.0                 220.0  "
            ],
            "text/html": [
              "\n",
              "  <div id=\"df-8e66ef80-2880-4551-b0a6-fecc128427ed\" class=\"colab-df-container\">\n",
              "    <div>\n",
              "<style scoped>\n",
              "    .dataframe tbody tr th:only-of-type {\n",
              "        vertical-align: middle;\n",
              "    }\n",
              "\n",
              "    .dataframe tbody tr th {\n",
              "        vertical-align: top;\n",
              "    }\n",
              "\n",
              "    .dataframe thead th {\n",
              "        text-align: right;\n",
              "    }\n",
              "</style>\n",
              "<table border=\"1\" class=\"dataframe\">\n",
              "  <thead>\n",
              "    <tr style=\"text-align: right;\">\n",
              "      <th></th>\n",
              "      <th>Reporting Period Start Date</th>\n",
              "      <th>Reporting Period End Date</th>\n",
              "      <th>Category</th>\n",
              "      <th>Subcategory</th>\n",
              "      <th>Number of Events</th>\n",
              "      <th>People in Attendance</th>\n",
              "    </tr>\n",
              "  </thead>\n",
              "  <tbody>\n",
              "    <tr>\n",
              "      <th>0</th>\n",
              "      <td>10/01/2016 12:00:00 AM</td>\n",
              "      <td>12/31/2016 12:00:00 AM</td>\n",
              "      <td>Parks and Recreation</td>\n",
              "      <td>Millage - Reopening events</td>\n",
              "      <td>2.0</td>\n",
              "      <td>95.0</td>\n",
              "    </tr>\n",
              "    <tr>\n",
              "      <th>1</th>\n",
              "      <td>04/01/2017 12:00:00 AM</td>\n",
              "      <td>06/30/2017 12:00:00 AM</td>\n",
              "      <td>Parks and Recreation</td>\n",
              "      <td>Millage - Reopening events</td>\n",
              "      <td>1.0</td>\n",
              "      <td>45.0</td>\n",
              "    </tr>\n",
              "    <tr>\n",
              "      <th>2</th>\n",
              "      <td>04/01/2017 12:00:00 AM</td>\n",
              "      <td>06/30/2017 12:00:00 AM</td>\n",
              "      <td>Parks and Recreation</td>\n",
              "      <td>Recreation events</td>\n",
              "      <td>1.0</td>\n",
              "      <td>220.0</td>\n",
              "    </tr>\n",
              "  </tbody>\n",
              "</table>\n",
              "</div>\n",
              "    <div class=\"colab-df-buttons\">\n",
              "\n",
              "  <div class=\"colab-df-container\">\n",
              "    <button class=\"colab-df-convert\" onclick=\"convertToInteractive('df-8e66ef80-2880-4551-b0a6-fecc128427ed')\"\n",
              "            title=\"Convert this dataframe to an interactive table.\"\n",
              "            style=\"display:none;\">\n",
              "\n",
              "  <svg xmlns=\"http://www.w3.org/2000/svg\" height=\"24px\" viewBox=\"0 -960 960 960\">\n",
              "    <path d=\"M120-120v-720h720v720H120Zm60-500h600v-160H180v160Zm220 220h160v-160H400v160Zm0 220h160v-160H400v160ZM180-400h160v-160H180v160Zm440 0h160v-160H620v160ZM180-180h160v-160H180v160Zm440 0h160v-160H620v160Z\"/>\n",
              "  </svg>\n",
              "    </button>\n",
              "\n",
              "  <style>\n",
              "    .colab-df-container {\n",
              "      display:flex;\n",
              "      gap: 12px;\n",
              "    }\n",
              "\n",
              "    .colab-df-convert {\n",
              "      background-color: #E8F0FE;\n",
              "      border: none;\n",
              "      border-radius: 50%;\n",
              "      cursor: pointer;\n",
              "      display: none;\n",
              "      fill: #1967D2;\n",
              "      height: 32px;\n",
              "      padding: 0 0 0 0;\n",
              "      width: 32px;\n",
              "    }\n",
              "\n",
              "    .colab-df-convert:hover {\n",
              "      background-color: #E2EBFA;\n",
              "      box-shadow: 0px 1px 2px rgba(60, 64, 67, 0.3), 0px 1px 3px 1px rgba(60, 64, 67, 0.15);\n",
              "      fill: #174EA6;\n",
              "    }\n",
              "\n",
              "    .colab-df-buttons div {\n",
              "      margin-bottom: 4px;\n",
              "    }\n",
              "\n",
              "    [theme=dark] .colab-df-convert {\n",
              "      background-color: #3B4455;\n",
              "      fill: #D2E3FC;\n",
              "    }\n",
              "\n",
              "    [theme=dark] .colab-df-convert:hover {\n",
              "      background-color: #434B5C;\n",
              "      box-shadow: 0px 1px 3px 1px rgba(0, 0, 0, 0.15);\n",
              "      filter: drop-shadow(0px 1px 2px rgba(0, 0, 0, 0.3));\n",
              "      fill: #FFFFFF;\n",
              "    }\n",
              "  </style>\n",
              "\n",
              "    <script>\n",
              "      const buttonEl =\n",
              "        document.querySelector('#df-8e66ef80-2880-4551-b0a6-fecc128427ed button.colab-df-convert');\n",
              "      buttonEl.style.display =\n",
              "        google.colab.kernel.accessAllowed ? 'block' : 'none';\n",
              "\n",
              "      async function convertToInteractive(key) {\n",
              "        const element = document.querySelector('#df-8e66ef80-2880-4551-b0a6-fecc128427ed');\n",
              "        const dataTable =\n",
              "          await google.colab.kernel.invokeFunction('convertToInteractive',\n",
              "                                                    [key], {});\n",
              "        if (!dataTable) return;\n",
              "\n",
              "        const docLinkHtml = 'Like what you see? Visit the ' +\n",
              "          '<a target=\"_blank\" href=https://colab.research.google.com/notebooks/data_table.ipynb>data table notebook</a>'\n",
              "          + ' to learn more about interactive tables.';\n",
              "        element.innerHTML = '';\n",
              "        dataTable['output_type'] = 'display_data';\n",
              "        await google.colab.output.renderOutput(dataTable, element);\n",
              "        const docLink = document.createElement('div');\n",
              "        docLink.innerHTML = docLinkHtml;\n",
              "        element.appendChild(docLink);\n",
              "      }\n",
              "    </script>\n",
              "  </div>\n",
              "\n",
              "\n",
              "<div id=\"df-c3f82164-683c-4c1a-b371-1d8b7b70ce22\">\n",
              "  <button class=\"colab-df-quickchart\" onclick=\"quickchart('df-c3f82164-683c-4c1a-b371-1d8b7b70ce22')\"\n",
              "            title=\"Suggest charts\"\n",
              "            style=\"display:none;\">\n",
              "\n",
              "<svg xmlns=\"http://www.w3.org/2000/svg\" height=\"24px\"viewBox=\"0 0 24 24\"\n",
              "     width=\"24px\">\n",
              "    <g>\n",
              "        <path d=\"M19 3H5c-1.1 0-2 .9-2 2v14c0 1.1.9 2 2 2h14c1.1 0 2-.9 2-2V5c0-1.1-.9-2-2-2zM9 17H7v-7h2v7zm4 0h-2V7h2v10zm4 0h-2v-4h2v4z\"/>\n",
              "    </g>\n",
              "</svg>\n",
              "  </button>\n",
              "\n",
              "<style>\n",
              "  .colab-df-quickchart {\n",
              "      --bg-color: #E8F0FE;\n",
              "      --fill-color: #1967D2;\n",
              "      --hover-bg-color: #E2EBFA;\n",
              "      --hover-fill-color: #174EA6;\n",
              "      --disabled-fill-color: #AAA;\n",
              "      --disabled-bg-color: #DDD;\n",
              "  }\n",
              "\n",
              "  [theme=dark] .colab-df-quickchart {\n",
              "      --bg-color: #3B4455;\n",
              "      --fill-color: #D2E3FC;\n",
              "      --hover-bg-color: #434B5C;\n",
              "      --hover-fill-color: #FFFFFF;\n",
              "      --disabled-bg-color: #3B4455;\n",
              "      --disabled-fill-color: #666;\n",
              "  }\n",
              "\n",
              "  .colab-df-quickchart {\n",
              "    background-color: var(--bg-color);\n",
              "    border: none;\n",
              "    border-radius: 50%;\n",
              "    cursor: pointer;\n",
              "    display: none;\n",
              "    fill: var(--fill-color);\n",
              "    height: 32px;\n",
              "    padding: 0;\n",
              "    width: 32px;\n",
              "  }\n",
              "\n",
              "  .colab-df-quickchart:hover {\n",
              "    background-color: var(--hover-bg-color);\n",
              "    box-shadow: 0 1px 2px rgba(60, 64, 67, 0.3), 0 1px 3px 1px rgba(60, 64, 67, 0.15);\n",
              "    fill: var(--button-hover-fill-color);\n",
              "  }\n",
              "\n",
              "  .colab-df-quickchart-complete:disabled,\n",
              "  .colab-df-quickchart-complete:disabled:hover {\n",
              "    background-color: var(--disabled-bg-color);\n",
              "    fill: var(--disabled-fill-color);\n",
              "    box-shadow: none;\n",
              "  }\n",
              "\n",
              "  .colab-df-spinner {\n",
              "    border: 2px solid var(--fill-color);\n",
              "    border-color: transparent;\n",
              "    border-bottom-color: var(--fill-color);\n",
              "    animation:\n",
              "      spin 1s steps(1) infinite;\n",
              "  }\n",
              "\n",
              "  @keyframes spin {\n",
              "    0% {\n",
              "      border-color: transparent;\n",
              "      border-bottom-color: var(--fill-color);\n",
              "      border-left-color: var(--fill-color);\n",
              "    }\n",
              "    20% {\n",
              "      border-color: transparent;\n",
              "      border-left-color: var(--fill-color);\n",
              "      border-top-color: var(--fill-color);\n",
              "    }\n",
              "    30% {\n",
              "      border-color: transparent;\n",
              "      border-left-color: var(--fill-color);\n",
              "      border-top-color: var(--fill-color);\n",
              "      border-right-color: var(--fill-color);\n",
              "    }\n",
              "    40% {\n",
              "      border-color: transparent;\n",
              "      border-right-color: var(--fill-color);\n",
              "      border-top-color: var(--fill-color);\n",
              "    }\n",
              "    60% {\n",
              "      border-color: transparent;\n",
              "      border-right-color: var(--fill-color);\n",
              "    }\n",
              "    80% {\n",
              "      border-color: transparent;\n",
              "      border-right-color: var(--fill-color);\n",
              "      border-bottom-color: var(--fill-color);\n",
              "    }\n",
              "    90% {\n",
              "      border-color: transparent;\n",
              "      border-bottom-color: var(--fill-color);\n",
              "    }\n",
              "  }\n",
              "</style>\n",
              "\n",
              "  <script>\n",
              "    async function quickchart(key) {\n",
              "      const quickchartButtonEl =\n",
              "        document.querySelector('#' + key + ' button');\n",
              "      quickchartButtonEl.disabled = true;  // To prevent multiple clicks.\n",
              "      quickchartButtonEl.classList.add('colab-df-spinner');\n",
              "      try {\n",
              "        const charts = await google.colab.kernel.invokeFunction(\n",
              "            'suggestCharts', [key], {});\n",
              "      } catch (error) {\n",
              "        console.error('Error during call to suggestCharts:', error);\n",
              "      }\n",
              "      quickchartButtonEl.classList.remove('colab-df-spinner');\n",
              "      quickchartButtonEl.classList.add('colab-df-quickchart-complete');\n",
              "    }\n",
              "    (() => {\n",
              "      let quickchartButtonEl =\n",
              "        document.querySelector('#df-c3f82164-683c-4c1a-b371-1d8b7b70ce22 button');\n",
              "      quickchartButtonEl.style.display =\n",
              "        google.colab.kernel.accessAllowed ? 'block' : 'none';\n",
              "    })();\n",
              "  </script>\n",
              "</div>\n",
              "\n",
              "    </div>\n",
              "  </div>\n"
            ]
          },
          "metadata": {},
          "execution_count": 6
        }
      ]
    },
    {
      "cell_type": "markdown",
      "source": [
        "# Data Cleaning"
      ],
      "metadata": {
        "id": "NBfbkTNrN8SM"
      }
    },
    {
      "cell_type": "markdown",
      "source": [
        ">All the datasets to be cleaned are below.\n",
        "\n",
        ">The number of datasets being cleaned will change depending on the needs of the project"
      ],
      "metadata": {
        "id": "jlakbUhTgwiH"
      }
    },
    {
      "cell_type": "code",
      "source": [],
      "metadata": {
        "id": "l9XIEMc6guD6"
      },
      "execution_count": 5,
      "outputs": []
    },
    {
      "cell_type": "markdown",
      "source": [
        "## Exporting Files to CSV"
      ],
      "metadata": {
        "id": "aXTXEjstgjqQ"
      }
    },
    {
      "cell_type": "code",
      "source": [],
      "metadata": {
        "id": "cazNZFfjN8fU"
      },
      "execution_count": 5,
      "outputs": []
    }
  ]
}